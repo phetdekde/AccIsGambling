{
 "cells": [
  {
   "cell_type": "code",
   "execution_count": 1,
   "metadata": {},
   "outputs": [],
   "source": [
    "import numpy as np\n",
    "import pandas as pd\n",
    "import pandas_datareader as pdr\n",
    "import matplotlib.pyplot as plt\n",
    "import talib\n",
    "from sklearn.preprocessing import MinMaxScaler\n",
    "from sklearn.model_selection import train_test_split\n",
    "from sklearn.linear_model import LogisticRegression\n",
    "from sklearn.linear_model import LinearRegression\n",
    "from sklearn.preprocessing import PolynomialFeatures\n",
    "from sklearn.ensemble import RandomForestClassifier\n",
    "from sklearn.tree import DecisionTreeClassifier\n",
    "from sklearn.feature_selection import RFE\n",
    "from sklearn.metrics import mean_squared_error, r2_score, mean_absolute_error, accuracy_score\n",
    "from datetime import date,datetime"
   ]
  },
  {
   "cell_type": "code",
   "execution_count": 2,
   "metadata": {},
   "outputs": [],
   "source": [
    "INDEX = ['^N225', '^HSI', '^DJI', '000001.SS']\n",
    "start_date = '2016-01-01'\n",
    "end_date = '2019-01-01'\n",
    "scaler = MinMaxScaler((0,1))\n",
    "start_date = datetime.strptime(start_date, \"%Y-%m-%d\")\n",
    "end_date = datetime.strptime(end_date, \"%Y-%m-%d\")\n",
    "shift_list = [1,3,7,10,30,60,90]\n",
    "features_list = ['macd','RSI','STOCH_slowk','EMA','OBV','ADLine','ADX','SMA','CMO','CCI']"
   ]
  },
  {
   "cell_type": "code",
   "execution_count": 3,
   "metadata": {},
   "outputs": [],
   "source": [
    "def prepare_index(INDEX_NAME, start_date, end_date):\n",
    "    index = pdr.get_data_yahoo(INDEX_NAME, start=start_date, end=end_date)\n",
    "    index = index[['Close','High','Low','Volume','Open']]\n",
    "    index.reset_index(inplace=True)\n",
    "    index = macd(index, 12, 26, 9) #fast=12 slow=26 signal=9\n",
    "    index = rsi(index, 14) #time=14\n",
    "    index = ema(index, 14) #time=14\n",
    "    index = stoch(index) \n",
    "    index = obv(index) \n",
    "    index = ad(index)\n",
    "    index = adx(index, 14) #time=14\n",
    "    index = sma(index, 14) #time=14\n",
    "    index = cmo(index, 14) #time=14\n",
    "    index = cci(index, 14) #time=14\n",
    "    index = index[['Date','Close','macd','RSI','STOCH_slowk','EMA','OBV','ADLine','ADX','SMA','CMO','CCI']]\n",
    "    index.set_index(\"Date\", inplace=True)\n",
    "    index = index.bfill(axis ='rows')\n",
    "\n",
    "    return index\n",
    "    \n",
    "def target(df, col=\"Close\", shift=-1, sideway=0):\n",
    "    return df.assign(Target = np.where( df[col].shift(shift) > df[col] * (1 + sideway), 1, 0))\n",
    "\n",
    "def macd(idx, fast, slow, signal):\n",
    "    macd, macdsignal, macdhist = talib.MACD(idx['Close'], fastperiod=fast, slowperiod=slow, signalperiod=signal)\n",
    "    d = pd.DataFrame(macd)\n",
    "    d = d.assign(signal=macdsignal)\n",
    "    d = d.rename({0:'macd'},axis=1)\n",
    "    idx = idx.assign(macd=d['macd'])\n",
    "    return idx\n",
    "\n",
    "def rsi(idx, time):\n",
    "    RSI= talib.RSI(idx['Close'],timeperiod=time)\n",
    "    RSI = RSI.to_frame()\n",
    "    RSI = RSI.rename({0:'RSI'},axis=1)\n",
    "    idx = idx.assign(RSI=RSI['RSI'])\n",
    "    return idx\n",
    "\n",
    "def ema(idx, time):\n",
    "    real = talib.EMA(idx['Close'], timeperiod=time)\n",
    "    idx = idx.assign(EMA=real)\n",
    "    return idx\n",
    "\n",
    "def stoch(idx):\n",
    "    slowk, slowd = talib.STOCH(idx['High'], idx['Low'], idx['Close'])\n",
    "    idx = idx.assign(STOCH_slowk=slowk)\n",
    "    return idx\n",
    "\n",
    "def obv(idx):\n",
    "    real = talib.OBV(idx['Close'], idx['Volume'])\n",
    "    idx = idx.assign(OBV=real)\n",
    "    return idx\n",
    "\n",
    "def ad(idx):\n",
    "    real = talib.AD(idx['High'], idx['Low'], idx['Close'], idx['Volume'])\n",
    "    idx = idx.assign(ADLine=real)\n",
    "    return idx\n",
    "\n",
    "def adx(idx, time):\n",
    "    real = talib.ADX(idx['High'], idx['Low'], idx['Close'], timeperiod=time)\n",
    "    idx = idx.assign(ADX=real)\n",
    "    return idx\n",
    "\n",
    "def aroon(idx, time):\n",
    "    aroondown, aroonup = talib.AROON(idx['High'], idx['Low'], timeperiod=time)\n",
    "    \n",
    "def sma(idx, time):\n",
    "    real = talib.SMA(idx['Close'], timeperiod=time)\n",
    "    idx = idx.assign(SMA=real)\n",
    "    return idx\n",
    "\n",
    "def cmo(idx, time):\n",
    "    real = talib.CMO(idx['Close'], timeperiod=time)\n",
    "    idx = idx.assign(CMO=real)\n",
    "    return idx\n",
    "\n",
    "def cci(idx, time):\n",
    "    real = talib.CCI(idx['High'], idx['Low'], idx['Close'], timeperiod=time)\n",
    "    idx = idx.assign(CCI=real)\n",
    "    return idx"
   ]
  },
  {
   "cell_type": "code",
   "execution_count": 4,
   "metadata": {},
   "outputs": [],
   "source": [
    "index_data = {}\n",
    "for shift in shift_list:\n",
    "    for index_name in INDEX:\n",
    "        name = index_name + \"-\" + str(shift)\n",
    "        index_data[name] = prepare_index(index_name, start_date=start_date, end_date=end_date)\n",
    "        index_data[name] = target(index_data[name],shift=shift)"
   ]
  },
  {
   "cell_type": "markdown",
   "metadata": {},
   "source": [
    "<h2>Feature selection for Classification Model</h2> \n",
    "(Random Forest, Logistic, Decision Tree)"
   ]
  },
  {
   "cell_type": "code",
   "execution_count": 5,
   "metadata": {},
   "outputs": [
    {
     "data": {
      "text/plain": [
       "macd           15.0\n",
       "RSI            13.0\n",
       "STOCH_slowk    11.0\n",
       "EMA             9.0\n",
       "OBV             7.0\n",
       "ADLine         10.0\n",
       "ADX             7.0\n",
       "SMA             7.0\n",
       "CMO            12.0\n",
       "CCI            14.0\n",
       "dtype: float64"
      ]
     },
     "execution_count": 5,
     "metadata": {},
     "output_type": "execute_result"
    }
   ],
   "source": [
    "hit_features = pd.Series(np.zeros(len(features_list)), index=features_list)\n",
    "for shift in shift_list:\n",
    "    rf_model = RandomForestClassifier(random_state=0)\n",
    "    lg_model = LogisticRegression(random_state=0)\n",
    "    dt_model = DecisionTreeClassifier(random_state=0)\n",
    "    class_model = [rf_model, lg_model, dt_model]\n",
    "    for model in class_model:\n",
    "        rfe = RFE(estimator=model, n_features_to_select=5)\n",
    "        \n",
    "        for index_name in INDEX:\n",
    "            name = index_name + \"-\" + str(shift)\n",
    "            index = index_data[name]\n",
    "            X = index[features_list]\n",
    "            y = index[[\"Target\"]]\n",
    "            X_train, X_test, y_train, y_test = train_test_split(X, y, test_size=0.2, shuffle = False, random_state=0)\n",
    "            X_train = scaler.fit_transform(X_train)\n",
    "            y_train = scaler.fit_transform(y_train)\n",
    "            rfe = rfe.fit(X_train, y_train.ravel())\n",
    "        \n",
    "        temp = pd.Series(rfe.support_, index = X.columns.to_list())\n",
    "        for k in temp.keys(): \n",
    "            if temp[k] == True: hit_features[k] += 1\n",
    "hit_features"
   ]
  },
  {
   "cell_type": "markdown",
   "metadata": {},
   "source": [
    "<h2>Feature selection for Linear Regression Model</h2>"
   ]
  },
  {
   "cell_type": "code",
   "execution_count": 6,
   "metadata": {},
   "outputs": [
    {
     "data": {
      "text/plain": [
       "macd           16.0\n",
       "RSI            16.0\n",
       "STOCH_slowk    11.0\n",
       "EMA            16.0\n",
       "OBV            13.0\n",
       "ADLine         17.0\n",
       "ADX             7.0\n",
       "SMA            11.0\n",
       "CMO            16.0\n",
       "CCI            17.0\n",
       "dtype: float64"
      ]
     },
     "execution_count": 6,
     "metadata": {},
     "output_type": "execute_result"
    }
   ],
   "source": [
    "for shift in shift_list:\n",
    "    ln_model = LinearRegression()\n",
    "    rfe = RFE(estimator=ln_model, n_features_to_select=5)\n",
    "    for index_name in INDEX:\n",
    "        name = index_name + \"-\" + str(shift)\n",
    "        index = index_data[name]\n",
    "        X = index.iloc[:-shift,:][features_list]\n",
    "        y = index.iloc[shift:,:][[\"Close\"]]\n",
    "        X_train, X_test, y_train, y_test = train_test_split(X, y, test_size=0.2, shuffle = False, random_state=0)\n",
    "        X_train = scaler.fit_transform(X_train)\n",
    "        y_train = scaler.fit_transform(y_train)\n",
    "        rfe = rfe.fit(X_train, y_train.ravel())\n",
    "    temp = pd.Series(rfe.support_, index = X.columns.to_list())\n",
    "    for k in temp.keys(): \n",
    "        if temp[k] == True: hit_features[k] += 1\n",
    "hit_features"
   ]
  },
  {
   "cell_type": "code",
   "execution_count": 12,
   "metadata": {},
   "outputs": [
    {
     "name": "stdout",
     "output_type": "stream",
     "text": [
      "Selected features are : ['macd', 'RSI', 'EMA', 'ADLine', 'CMO', 'CCI']\n"
     ]
    }
   ],
   "source": [
    "selected_features = hit_features[hit_features > 15].index.tolist()\n",
    "print(\"Selected features are :\",selected_features)"
   ]
  }
 ],
 "metadata": {
  "interpreter": {
   "hash": "aee8b7b246df8f9039afb4144a1f6fd8d2ca17a180786b69acc140d282b71a49"
  },
  "kernelspec": {
   "display_name": "Python 3 (ipykernel)",
   "language": "python",
   "name": "python3"
  },
  "language_info": {
   "codemirror_mode": {
    "name": "ipython",
    "version": 3
   },
   "file_extension": ".py",
   "mimetype": "text/x-python",
   "name": "python",
   "nbconvert_exporter": "python",
   "pygments_lexer": "ipython3",
   "version": "3.9.6"
  }
 },
 "nbformat": 4,
 "nbformat_minor": 4
}
